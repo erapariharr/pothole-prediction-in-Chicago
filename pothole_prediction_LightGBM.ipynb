{
  "cells": [
    {
      "cell_type": "code",
      "execution_count": 2,
      "metadata": {
        "colab": {
          "base_uri": "https://localhost:8080/",
          "height": 859
        },
        "id": "4XkejYB3mNYH",
        "outputId": "68638318-f57c-42aa-fd98-afdf3f6065e3"
      },
      "outputs": [
        {
          "name": "stdout",
          "output_type": "stream",
          "text": [
            "[LightGBM] [Info] Auto-choosing row-wise multi-threading, the overhead of testing was 0.000214 seconds.\n",
            "You can set `force_row_wise=true` to remove the overhead.\n",
            "And if memory is not enough, you can set `force_col_wise=true`.\n",
            "[LightGBM] [Info] Total Bins 180\n",
            "[LightGBM] [Info] Number of data points in the train set: 5589, number of used features: 80\n",
            "[LightGBM] [Info] Start training from score 5.807824\n",
            "[LightGBM] [Warning] No further splits with positive gain, best gain: -inf\n",
            "[LightGBM] [Warning] No further splits with positive gain, best gain: -inf\n",
            "[LightGBM] [Warning] No further splits with positive gain, best gain: -inf\n",
            "[LightGBM] [Warning] No further splits with positive gain, best gain: -inf\n",
            "[LightGBM] [Warning] No further splits with positive gain, best gain: -inf\n",
            "[LightGBM] [Warning] No further splits with positive gain, best gain: -inf\n",
            "[LightGBM] [Warning] No further splits with positive gain, best gain: -inf\n",
            "[LightGBM] [Warning] No further splits with positive gain, best gain: -inf\n",
            "[LightGBM] [Warning] No further splits with positive gain, best gain: -inf\n",
            "[LightGBM] [Warning] No further splits with positive gain, best gain: -inf\n"
          ]
        }
      ],
      "source": [
        "import pandas as pd\n",
        "import numpy as np\n",
        "import lightgbm as lgb\n",
        "import matplotlib.pyplot as plt\n",
        "from sklearn.metrics import mean_squared_error\n",
        "\n",
        "# 1. Data Preparation\n",
        "# Load dataset\n",
        "df = pd.read_csv('training.csv')\n",
        "df = df[df['outcome'] == 'pothole']\n",
        "\n",
        "# Drop specified columns\n",
        "columns_to_drop = ['Unnamed: 0', 'request_number', 'address', 'ssa', 'avg_traffic', 'days_open']\n",
        "df = df.drop(columns=columns_to_drop)\n",
        "\n",
        "# Convert creation_date to month and then to cyclic sin-cos values\n",
        "df['creation_date'] = pd.to_datetime(df['creation_date'])\n",
        "df['month'] = df['creation_date'].dt.month\n",
        "df['month_sin'] = np.sin((df['month']-1) * (2.*np.pi/12))\n",
        "df['month_cos'] = np.cos((df['month']-1) * (2.*np.pi/12))\n",
        "df['year'] = df['creation_date'].dt.year\n",
        "\n",
        "# Create the Year-Month-Community column\n",
        "df['Year-Month-Community'] = df['year'].astype(str) + '-' + df['month'].astype(str).str.zfill(2) + ' at community ' + df['community_area_number'].astype(str)\n",
        "\n",
        "# Aggregate data\n",
        "agg_df = df.groupby(['year', 'month', 'community_area_number'])['n_potholes_on_block'].sum().reset_index()\n",
        "agg_df.rename(columns={'n_potholes_on_block': 'Total_n_potholes'}, inplace=True)\n",
        "df = df.drop('n_potholes_on_block', axis=1)\n",
        "result = pd.merge(df, agg_df, on=['year', 'month', 'community_area_number'], how='left')\n",
        "result = result.drop_duplicates(subset=['year', 'month', 'community_area_number'])\n",
        "result = pd.get_dummies(result, columns=['community_area_number'])\n",
        "\n",
        "# Creating test set 2017-18, with month year and community area number\n",
        "years = [2017, 2018]\n",
        "community_area_numbers = list(range(78))\n",
        "all_combinations = []\n",
        "for year in years:\n",
        "    for month in range(1, 13):\n",
        "        for community in community_area_numbers:\n",
        "            year_month = f\"{year}-{month:02}\"\n",
        "            combination = {\n",
        "                'Year': year,\n",
        "                'Month': month,\n",
        "                'community_area_number': community,\n",
        "                'Year_Month': year_month\n",
        "            }\n",
        "            all_combinations.append(combination)\n",
        "\n",
        "# Create a DataFrame from the combinations\n",
        "test_set = pd.DataFrame(all_combinations)\n",
        "test_set['month_sin'] = np.sin((test_set['Month']-1) * (2.*np.pi/12))\n",
        "test_set['month_cos'] = np.cos((test_set['Month']-1) * (2.*np.pi/12))\n",
        "test_set = pd.get_dummies(test_set, columns=['community_area_number'])\n",
        "\n",
        "# Display the test set\n",
        "test_set=test_set.drop(columns=['Year','Month','Year_Month'])\n",
        "\n",
        "# Train-test split based on creation_date\n",
        "train_data = result[(result['creation_date'] >= '2011-01-01') & (result['creation_date'] <= '2016-12-31')]\n",
        "#test_data = result[(result['creation_date'] >= '2016-01-01') & (result['creation_date'] <= '2016-12-31')]\n",
        "\n",
        "# Prepare train and test datasets without filtering for months\n",
        "X_train = train_data.drop(columns=['Total_n_potholes', \"Year-Month-Community\", \"outcome\", \"month\", \"creation_date\", \"completion_date\",'year'])\n",
        "y_train_log = np.log1p(train_data['Total_n_potholes'])\n",
        "\n",
        "#X_test = test_data.drop(columns=[\"Year-Month-Community\", \"creation_date\", \"completion_date\", \"outcome\", \"month\", \"Total_n_potholes\",'year'])\n",
        "#y_test = test_data[\"Total_n_potholes\"]\n",
        "\n",
        "# 2. Train a LightGBM model\n",
        "lgb_dataset = lgb.Dataset(X_train, label=y_train_log)\n",
        "params = {\n",
        "    'objective': 'regression',\n",
        "    'metric': 'rmse',\n",
        "    'boosting_type': 'gbdt',\n",
        "    'num_leaves': 31,\n",
        "    'learning_rate': 0.05,\n",
        "    'feature_fraction': 0.9\n",
        "}\n",
        "\n",
        "num_round = 100\n",
        "model = lgb.train(params, lgb_dataset, num_round)\n",
        "\n",
        "# Predict using the trained model\n",
        "y_pred_log = model.predict(test_set, num_iteration=model.best_iteration)\n",
        "y_pred = np.expm1(y_pred_log)\n",
        "\n",
        "\n",
        "# 4. RMSE Calculation\n",
        "#rmse = np.sqrt(mean_squared_error(y_test, y_pred))\n",
        "#print(f'RMSE: {rmse}')\n",
        "years = [2017, 2018]\n",
        "community_area_numbers = list(range(78))\n",
        "all_combinations = []\n",
        "for year in years:\n",
        "    for month in range(1, 13):\n",
        "        for community in community_area_numbers:\n",
        "            year_month = f\"{year}-{month:02}\"\n",
        "            combination = f\"{year_month} in community {community}\"\n",
        "            all_combinations.append(combination)\n",
        "final = pd.DataFrame({'Year-Month-Community': all_combinations})\n",
        "# 5. Save results to CSV\n",
        "final['Total_n_potholes'] = y_pred\n",
        "final.to_csv('predicted_potholes.csv', index=False)\n"
      ]
    },
    {
      "cell_type": "code",
      "execution_count": 3,
      "metadata": {
        "colab": {
          "base_uri": "https://localhost:8080/"
        },
        "id": "cAE2yy0oogox",
        "outputId": "db362b1e-20ee-4e0a-e7f0-91eff4b95f12"
      },
      "outputs": [
        {
          "data": {
            "text/plain": [
              "array([ 97.02664215, 498.93048095, 903.71423321, ..., 257.06997868,\n",
              "        96.82718579, 175.22572548])"
            ]
          },
          "execution_count": 3,
          "metadata": {},
          "output_type": "execute_result"
        }
      ],
      "source": [
        "y_pred"
      ]
    },
    {
      "cell_type": "code",
      "execution_count": null,
      "metadata": {},
      "outputs": [],
      "source": []
    }
  ],
  "metadata": {
    "colab": {
      "provenance": []
    },
    "kernelspec": {
      "display_name": "Python 3",
      "name": "python3"
    },
    "language_info": {
      "codemirror_mode": {
        "name": "ipython",
        "version": 3
      },
      "file_extension": ".py",
      "mimetype": "text/x-python",
      "name": "python",
      "nbconvert_exporter": "python",
      "pygments_lexer": "ipython3",
      "version": "3.11.1"
    }
  },
  "nbformat": 4,
  "nbformat_minor": 0
}
